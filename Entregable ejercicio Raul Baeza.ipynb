{
 "cells": [
  {
   "cell_type": "markdown",
   "id": "cb699abd",
   "metadata": {},
   "source": [
    "# Análisis de Datos - Ejercicio\n",
    "Autor: Raúl Baeza Osuna\n"
   ]
  },
  {
   "cell_type": "markdown",
   "id": "adcb21b4",
   "metadata": {},
   "source": [
    "## Enunciado\n",
    "- Elige un dataset futbol.csv o covid.csv\n",
    "\t- Covid\n",
    "\t\thttps://www.ecdc.europa.eu/en/publications-data/download-todays-data-geographic-distribution-covid-19-cases-worldwide\n",
    "\t- Futbol https://rstudio-pubs-static.s3.amazonaws.com/338127_f85723bf6d9b4637a4c5e1ff8f838432.html\n",
    "\t\thttps://www.football-data.co.uk/spainm.php\n",
    "\t\thttps://www.football-data.co.uk/notes.txt\n",
    "- Crea un dataframe de Spark cargando los datos\n",
    "- Comprueba el esquema\n",
    "- Plantea 3 cuestiones análiticas de resumen de datos.\n",
    "\t- Ej. ¿cuantos goles se han marcado partidos como visitante?\n",
    "\t- Ej. ¿cuanto casos de covid había aculados en España en marzo de 2021?\n",
    "\t- Contesta al menos 2 de ellas usando funciones de la API de Dataframes y otra usando sentencias SQL.\n",
    "\n",
    "- Persiste el resultado en formato Parquet.\n",
    "- Documenta el ejercicio usando lenguaje Markdown.\n",
    "- Envía el notebook al profesor en formato .ipynb y en .html"
   ]
  },
  {
   "cell_type": "markdown",
   "id": "7b05a39c",
   "metadata": {},
   "source": [
    "## Iniciar Spark"
   ]
  },
  {
   "cell_type": "code",
   "execution_count": 157,
   "id": "0c46d9c9",
   "metadata": {},
   "outputs": [],
   "source": [
    "import findspark\n",
    "findspark.init()"
   ]
  },
  {
   "cell_type": "code",
   "execution_count": 158,
   "id": "d13c0ad7",
   "metadata": {},
   "outputs": [],
   "source": [
    "from pyspark.sql import SparkSession"
   ]
  },
  {
   "cell_type": "code",
   "execution_count": 159,
   "id": "fac5341f",
   "metadata": {},
   "outputs": [],
   "source": [
    "spark: SparkSession = SparkSession.builder.appName('IntroSparkSQL')\\\n",
    "    .config('spark.sql.repl.eagerEval.enabled',True)\\\n",
    "    .config('spark.sql.repl.eagerEval.maxNumRows', 10)\\\n",
    "    .getOrCreate()"
   ]
  },
  {
   "cell_type": "code",
   "execution_count": 160,
   "id": "df497aa0",
   "metadata": {
    "scrolled": false
   },
   "outputs": [
    {
     "data": {
      "text/html": [
       "\n",
       "            <div>\n",
       "                <p><b>SparkSession - in-memory</b></p>\n",
       "                \n",
       "        <div>\n",
       "            <p><b>SparkContext</b></p>\n",
       "\n",
       "            <p><a href=\"http://linux:4040\">Spark UI</a></p>\n",
       "\n",
       "            <dl>\n",
       "              <dt>Version</dt>\n",
       "                <dd><code>v3.1.2</code></dd>\n",
       "              <dt>Master</dt>\n",
       "                <dd><code>local[*]</code></dd>\n",
       "              <dt>AppName</dt>\n",
       "                <dd><code>IntroSparkSQL</code></dd>\n",
       "            </dl>\n",
       "        </div>\n",
       "        \n",
       "            </div>\n",
       "        "
      ],
      "text/plain": [
       "<pyspark.sql.session.SparkSession at 0x7f74fc18e340>"
      ]
     },
     "execution_count": 160,
     "metadata": {},
     "output_type": "execute_result"
    }
   ],
   "source": [
    "spark"
   ]
  },
  {
   "cell_type": "markdown",
   "id": "659d02aa",
   "metadata": {},
   "source": [
    "## Dataset seleccionado: COVID-19\n",
    "\n",
    "En este trabajo, se realizará un análisis de datos utilizando un dataset de COVID-19. El dataset contiene información sobre la distribución geográfica de los casos de COVID-19 a nivel mundial.\n",
    "\n",
    "El objetivo del análisis es responder a tres preguntas analíticas basadas en los datos del dataset. Se utilizará la API de DataFrames y sentencias SQL para obtener las respuestas. Las preguntas planteadas son las siguientes:\n",
    "\n",
    "1. ¿Cuántos casos de COVID-19 se han registrado en total en todo el mundo?\n",
    "2. ¿Cuál es el país con el mayor número de casos acumulados de COVID-19?\n",
    "3. ¿Cuál es la fecha con el mayor número de casos diarios de COVID-19 en España?\n",
    "\n",
    "Se cargará el dataset en un dataframe de Spark, se comprobará el esquema y se realizará el análisis de datos para responder a las preguntas planteadas. Finalmente, los resultados se guardarán en formato Parquet para su posterior uso.\n",
    "\n",
    "Autor: Raúl Baeza Osuna\n"
   ]
  },
  {
   "cell_type": "markdown",
   "id": "4877bfc5",
   "metadata": {},
   "source": [
    "## Crear Data Frame y Cargado de datos\n",
    "\n"
   ]
  },
  {
   "cell_type": "code",
   "execution_count": 161,
   "id": "dfe10188",
   "metadata": {},
   "outputs": [],
   "source": [
    "pathCov=\"file:////home/training/ejercicios/covid/\""
   ]
  },
  {
   "cell_type": "code",
   "execution_count": 162,
   "id": "5b147571",
   "metadata": {},
   "outputs": [],
   "source": [
    "df_cov = spark.read.csv(pathCov+'covid.csv', header = True,inferSchema=True)"
   ]
  },
  {
   "cell_type": "code",
   "execution_count": 163,
   "id": "fdb2da76",
   "metadata": {
    "scrolled": false
   },
   "outputs": [
    {
     "data": {
      "text/html": [
       "<table border='1'>\n",
       "<tr><th>dateRep</th><th>day</th><th>month</th><th>year</th><th>cases</th><th>deaths</th><th>countriesAndTerritories</th><th>geoId</th><th>countryterritoryCode</th><th>popData2018</th></tr>\n",
       "<tr><td>29/03/2020</td><td>29</td><td>3</td><td>2020</td><td>15</td><td>1</td><td>Afghanistan</td><td>AF</td><td>AFG</td><td>37172386</td></tr>\n",
       "<tr><td>28/03/2020</td><td>28</td><td>3</td><td>2020</td><td>16</td><td>1</td><td>Afghanistan</td><td>AF</td><td>AFG</td><td>37172386</td></tr>\n",
       "<tr><td>27/03/2020</td><td>27</td><td>3</td><td>2020</td><td>0</td><td>0</td><td>Afghanistan</td><td>AF</td><td>AFG</td><td>37172386</td></tr>\n",
       "<tr><td>26/03/2020</td><td>26</td><td>3</td><td>2020</td><td>33</td><td>0</td><td>Afghanistan</td><td>AF</td><td>AFG</td><td>37172386</td></tr>\n",
       "<tr><td>25/03/2020</td><td>25</td><td>3</td><td>2020</td><td>2</td><td>0</td><td>Afghanistan</td><td>AF</td><td>AFG</td><td>37172386</td></tr>\n",
       "<tr><td>24/03/2020</td><td>24</td><td>3</td><td>2020</td><td>6</td><td>1</td><td>Afghanistan</td><td>AF</td><td>AFG</td><td>37172386</td></tr>\n",
       "<tr><td>23/03/2020</td><td>23</td><td>3</td><td>2020</td><td>10</td><td>0</td><td>Afghanistan</td><td>AF</td><td>AFG</td><td>37172386</td></tr>\n",
       "<tr><td>22/03/2020</td><td>22</td><td>3</td><td>2020</td><td>0</td><td>0</td><td>Afghanistan</td><td>AF</td><td>AFG</td><td>37172386</td></tr>\n",
       "<tr><td>21/03/2020</td><td>21</td><td>3</td><td>2020</td><td>2</td><td>0</td><td>Afghanistan</td><td>AF</td><td>AFG</td><td>37172386</td></tr>\n",
       "<tr><td>20/03/2020</td><td>20</td><td>3</td><td>2020</td><td>0</td><td>0</td><td>Afghanistan</td><td>AF</td><td>AFG</td><td>37172386</td></tr>\n",
       "</table>\n",
       "only showing top 10 rows\n"
      ],
      "text/plain": [
       "+----------+---+-----+----+-----+------+-----------------------+-----+--------------------+-----------+\n",
       "|   dateRep|day|month|year|cases|deaths|countriesAndTerritories|geoId|countryterritoryCode|popData2018|\n",
       "+----------+---+-----+----+-----+------+-----------------------+-----+--------------------+-----------+\n",
       "|29/03/2020| 29|    3|2020|   15|     1|            Afghanistan|   AF|                 AFG|   37172386|\n",
       "|28/03/2020| 28|    3|2020|   16|     1|            Afghanistan|   AF|                 AFG|   37172386|\n",
       "|27/03/2020| 27|    3|2020|    0|     0|            Afghanistan|   AF|                 AFG|   37172386|\n",
       "|26/03/2020| 26|    3|2020|   33|     0|            Afghanistan|   AF|                 AFG|   37172386|\n",
       "|25/03/2020| 25|    3|2020|    2|     0|            Afghanistan|   AF|                 AFG|   37172386|\n",
       "|24/03/2020| 24|    3|2020|    6|     1|            Afghanistan|   AF|                 AFG|   37172386|\n",
       "|23/03/2020| 23|    3|2020|   10|     0|            Afghanistan|   AF|                 AFG|   37172386|\n",
       "|22/03/2020| 22|    3|2020|    0|     0|            Afghanistan|   AF|                 AFG|   37172386|\n",
       "|21/03/2020| 21|    3|2020|    2|     0|            Afghanistan|   AF|                 AFG|   37172386|\n",
       "|20/03/2020| 20|    3|2020|    0|     0|            Afghanistan|   AF|                 AFG|   37172386|\n",
       "+----------+---+-----+----+-----+------+-----------------------+-----+--------------------+-----------+\n",
       "only showing top 10 rows"
      ]
     },
     "execution_count": 163,
     "metadata": {},
     "output_type": "execute_result"
    }
   ],
   "source": [
    "df_cov"
   ]
  },
  {
   "cell_type": "markdown",
   "id": "d09bc737",
   "metadata": {},
   "source": [
    "## Compruebación de esquema"
   ]
  },
  {
   "cell_type": "code",
   "execution_count": 164,
   "id": "2a6389c8",
   "metadata": {
    "scrolled": true
   },
   "outputs": [
    {
     "name": "stdout",
     "output_type": "stream",
     "text": [
      "root\n",
      " |-- dateRep: string (nullable = true)\n",
      " |-- day: integer (nullable = true)\n",
      " |-- month: integer (nullable = true)\n",
      " |-- year: integer (nullable = true)\n",
      " |-- cases: integer (nullable = true)\n",
      " |-- deaths: integer (nullable = true)\n",
      " |-- countriesAndTerritories: string (nullable = true)\n",
      " |-- geoId: string (nullable = true)\n",
      " |-- countryterritoryCode: string (nullable = true)\n",
      " |-- popData2018: integer (nullable = true)\n",
      "\n"
     ]
    }
   ],
   "source": [
    "df_cov.printSchema()"
   ]
  },
  {
   "cell_type": "markdown",
   "id": "df9b85ec",
   "metadata": {},
   "source": [
    "## Preguntas Covid"
   ]
  },
  {
   "cell_type": "markdown",
   "id": "17f796a2",
   "metadata": {},
   "source": [
    "### 1. ¿Cuántos casos de COVID-19 se han registrado en total en todo el mundo?\n",
    "Respuesta con funciones de la API de Dataframes"
   ]
  },
  {
   "cell_type": "code",
   "execution_count": 165,
   "id": "6caed08f",
   "metadata": {},
   "outputs": [],
   "source": [
    "from pyspark.sql.functions import  count,sum"
   ]
  },
  {
   "cell_type": "markdown",
   "id": "b9d512d0",
   "metadata": {},
   "source": [
    "#### Agrupado por Año"
   ]
  },
  {
   "cell_type": "code",
   "execution_count": 166,
   "id": "ca26e814",
   "metadata": {
    "scrolled": false
   },
   "outputs": [],
   "source": [
    "df_cov11 =df_cov.groupBy('year').agg(count('*').alias('Count'))"
   ]
  },
  {
   "cell_type": "code",
   "execution_count": 167,
   "id": "4ac08af7",
   "metadata": {
    "scrolled": true
   },
   "outputs": [
    {
     "data": {
      "text/html": [
       "<table border='1'>\n",
       "<tr><th>year</th><th>Count</th></tr>\n",
       "<tr><td>2019</td><td>67</td></tr>\n",
       "<tr><td>2020</td><td>7448</td></tr>\n",
       "</table>\n"
      ],
      "text/plain": [
       "+----+-----+\n",
       "|year|Count|\n",
       "+----+-----+\n",
       "|2019|   67|\n",
       "|2020| 7448|\n",
       "+----+-----+"
      ]
     },
     "execution_count": 167,
     "metadata": {},
     "output_type": "execute_result"
    }
   ],
   "source": [
    "df_cov11"
   ]
  },
  {
   "cell_type": "markdown",
   "id": "d5725bc6",
   "metadata": {},
   "source": [
    "#### Exportación a csv y parquet"
   ]
  },
  {
   "cell_type": "code",
   "execution_count": 168,
   "id": "72d08357",
   "metadata": {},
   "outputs": [
    {
     "name": "stderr",
     "output_type": "stream",
     "text": [
      "                                                                                \r"
     ]
    }
   ],
   "source": [
    "\n",
    "df_cov11.write.format('parquet').mode('overwrite').save(pathCov+'resultado/parquet11')\n",
    "df_cov11.write.format('csv').mode('overwrite').save(pathCov+'resultado/csv11')"
   ]
  },
  {
   "cell_type": "code",
   "execution_count": 169,
   "id": "fed6e03a",
   "metadata": {},
   "outputs": [
    {
     "name": "stdout",
     "output_type": "stream",
     "text": [
      "+----+-----+\n",
      "|year|Count|\n",
      "+----+-----+\n",
      "|2020| 7448|\n",
      "|2019|   67|\n",
      "+----+-----+\n",
      "\n",
      "+----+----+\n",
      "| _c0| _c1|\n",
      "+----+----+\n",
      "|2020|7448|\n",
      "|2019|  67|\n",
      "+----+----+\n",
      "\n"
     ]
    }
   ],
   "source": [
    "pruebaP = spark.read.format('parquet') \\\n",
    "    .load(pathCov+'resultado/parquet11')\n",
    "print (pruebaP)\n",
    "pruebaCsv = spark.read.format('csv') \\\n",
    "    .load(pathCov+'resultado/csv11')\n",
    "print (pruebaCsv)"
   ]
  },
  {
   "cell_type": "markdown",
   "id": "0ee461d2",
   "metadata": {},
   "source": [
    "#### Agrupado por territorios y paises"
   ]
  },
  {
   "cell_type": "code",
   "execution_count": 170,
   "id": "b022e30b",
   "metadata": {
    "scrolled": false
   },
   "outputs": [],
   "source": [
    "df_cov12=df_cov.groupBy('countriesAndTerritories').agg(sum('cases').alias('suma'))"
   ]
  },
  {
   "cell_type": "code",
   "execution_count": 171,
   "id": "23fad105",
   "metadata": {
    "scrolled": true
   },
   "outputs": [
    {
     "data": {
      "text/html": [
       "<table border='1'>\n",
       "<tr><th>countriesAndTerritories</th><th>suma</th></tr>\n",
       "<tr><td>Chad</td><td>5</td></tr>\n",
       "<tr><td>Anguilla</td><td>2</td></tr>\n",
       "<tr><td>Paraguay</td><td>59</td></tr>\n",
       "<tr><td>Russia</td><td>1264</td></tr>\n",
       "<tr><td>Burkina_Faso</td><td>180</td></tr>\n",
       "<tr><td>Cases_on_an_inter...</td><td>696</td></tr>\n",
       "<tr><td>Senegal</td><td>130</td></tr>\n",
       "<tr><td>Sweden</td><td>3447</td></tr>\n",
       "<tr><td>Timor_Leste</td><td>1</td></tr>\n",
       "<tr><td>Guyana</td><td>8</td></tr>\n",
       "</table>\n",
       "only showing top 10 rows\n"
      ],
      "text/plain": [
       "+-----------------------+----+\n",
       "|countriesAndTerritories|suma|\n",
       "+-----------------------+----+\n",
       "|                   Chad|   5|\n",
       "|               Anguilla|   2|\n",
       "|               Paraguay|  59|\n",
       "|                 Russia|1264|\n",
       "|           Burkina_Faso| 180|\n",
       "|   Cases_on_an_inter...| 696|\n",
       "|                Senegal| 130|\n",
       "|                 Sweden|3447|\n",
       "|            Timor_Leste|   1|\n",
       "|                 Guyana|   8|\n",
       "+-----------------------+----+\n",
       "only showing top 10 rows"
      ]
     },
     "execution_count": 171,
     "metadata": {},
     "output_type": "execute_result"
    }
   ],
   "source": [
    "df_cov12"
   ]
  },
  {
   "cell_type": "markdown",
   "id": "f0fd4377",
   "metadata": {},
   "source": [
    "#### Exportación a csv y parquet"
   ]
  },
  {
   "cell_type": "code",
   "execution_count": 172,
   "id": "f2526194",
   "metadata": {},
   "outputs": [
    {
     "name": "stderr",
     "output_type": "stream",
     "text": [
      "                                                                                \r"
     ]
    }
   ],
   "source": [
    "df_cov12.write.format('parquet').mode('overwrite').save(pathCov+'resultado/parquet12')\n",
    "df_cov12.write.format('csv').mode('overwrite').save(pathCov+'resultado/csv12')"
   ]
  },
  {
   "cell_type": "code",
   "execution_count": 173,
   "id": "7c5b4b1c",
   "metadata": {},
   "outputs": [
    {
     "name": "stdout",
     "output_type": "stream",
     "text": [
      "+-----------------------+----+\n",
      "|countriesAndTerritories|suma|\n",
      "+-----------------------+----+\n",
      "|   United_Republic_o...|  13|\n",
      "|   British_Virgin_Is...|   2|\n",
      "|   Saint_Kitts_and_N...|   2|\n",
      "|    Antigua_and_Barbuda|   7|\n",
      "|    Trinidad_and_Tobago|  74|\n",
      "|      Equatorial_Guinea|  13|\n",
      "|   Cases_on_an_inter...| 696|\n",
      "|                Senegal| 130|\n",
      "|         Czech_Republic|2663|\n",
      "|                Somalia|   3|\n",
      "+-----------------------+----+\n",
      "only showing top 10 rows\n",
      "\n",
      "+--------------------+----+\n",
      "|                 _c0| _c1|\n",
      "+--------------------+----+\n",
      "|             Austria|8291|\n",
      "|  Dominican_Republic| 719|\n",
      "|    French_Polynesia|  34|\n",
      "|               Nepal|   5|\n",
      "|          Azerbaijan| 182|\n",
      "|       Guinea_Bissau|   2|\n",
      "|               Libya|   1|\n",
      "|United_Arab_Emirates| 468|\n",
      "|      Czech_Republic|2663|\n",
      "|             Somalia|   3|\n",
      "+--------------------+----+\n",
      "only showing top 10 rows\n",
      "\n"
     ]
    }
   ],
   "source": [
    "pruebaP = spark.read.format('parquet') \\\n",
    "    .load(pathCov+'resultado/parquet12')\n",
    "print (pruebaP)\n",
    "pruebaCsv = spark.read.format('csv') \\\n",
    "    .load(pathCov+'resultado/csv12')\n",
    "print (pruebaCsv)"
   ]
  },
  {
   "cell_type": "markdown",
   "id": "d43047e2",
   "metadata": {},
   "source": [
    "#### Exportación a csv y parquet"
   ]
  },
  {
   "cell_type": "markdown",
   "id": "542c7ab3",
   "metadata": {},
   "source": [
    "#### Total Global"
   ]
  },
  {
   "cell_type": "code",
   "execution_count": 174,
   "id": "92632dba",
   "metadata": {},
   "outputs": [],
   "source": [
    "total_sum = df_cov.agg(sum('cases').alias('total'))\n"
   ]
  },
  {
   "cell_type": "code",
   "execution_count": 175,
   "id": "c9ccd9a2",
   "metadata": {
    "scrolled": false
   },
   "outputs": [
    {
     "data": {
      "text/html": [
       "<table border='1'>\n",
       "<tr><th>total</th></tr>\n",
       "<tr><td>657140</td></tr>\n",
       "</table>\n"
      ],
      "text/plain": [
       "+------+\n",
       "| total|\n",
       "+------+\n",
       "|657140|\n",
       "+------+"
      ]
     },
     "execution_count": 175,
     "metadata": {},
     "output_type": "execute_result"
    }
   ],
   "source": [
    "total_sum"
   ]
  },
  {
   "cell_type": "code",
   "execution_count": 176,
   "id": "b1600e65",
   "metadata": {},
   "outputs": [],
   "source": [
    "df_cov13=total_sum"
   ]
  },
  {
   "cell_type": "code",
   "execution_count": 177,
   "id": "fb6939d3",
   "metadata": {},
   "outputs": [
    {
     "data": {
      "text/plain": [
       "pyspark.sql.dataframe.DataFrame"
      ]
     },
     "execution_count": 177,
     "metadata": {},
     "output_type": "execute_result"
    }
   ],
   "source": [
    "type(df_cov13)"
   ]
  },
  {
   "cell_type": "markdown",
   "id": "893a68fc",
   "metadata": {},
   "source": [
    "#### Exportación a csv y parquet"
   ]
  },
  {
   "cell_type": "code",
   "execution_count": 178,
   "id": "5e29b7c5",
   "metadata": {},
   "outputs": [],
   "source": [
    "df_cov13.write.format('parquet').mode('overwrite').save(pathCov+'resultado/parquet13')\n",
    "df_cov13.write.format('csv').mode('overwrite').save(pathCov+'resultado/csv13')"
   ]
  },
  {
   "cell_type": "code",
   "execution_count": 179,
   "id": "fe65edb2",
   "metadata": {},
   "outputs": [
    {
     "name": "stdout",
     "output_type": "stream",
     "text": [
      "+------+\n",
      "| total|\n",
      "+------+\n",
      "|657140|\n",
      "+------+\n",
      "\n",
      "+------+\n",
      "|   _c0|\n",
      "+------+\n",
      "|657140|\n",
      "+------+\n",
      "\n"
     ]
    }
   ],
   "source": [
    "pruebaP = spark.read.format('parquet') \\\n",
    "    .load(pathCov+'resultado/parquet13')\n",
    "print (pruebaP)\n",
    "pruebaCsv = spark.read.format('csv') \\\n",
    "    .load(pathCov+'resultado/csv13')\n",
    "print (pruebaCsv)"
   ]
  },
  {
   "cell_type": "markdown",
   "id": "7c1f8987",
   "metadata": {},
   "source": [
    "### 2. ¿Cuál es el país con el mayor número de casos acumulados de COVID-19?\n",
    "Respuesta con funciones de la API de Dataframes\n"
   ]
  },
  {
   "cell_type": "code",
   "execution_count": 180,
   "id": "b988c5d0",
   "metadata": {},
   "outputs": [],
   "source": [
    "from pyspark.sql.functions import  max"
   ]
  },
  {
   "cell_type": "code",
   "execution_count": 181,
   "id": "6186eeea",
   "metadata": {
    "scrolled": true
   },
   "outputs": [],
   "source": [
    "df_cov2=df_cov.groupBy('countriesAndTerritories').agg( max('cases').alias('MaxCases')).orderBy('MaxCases',ascending=False).limit(1)"
   ]
  },
  {
   "cell_type": "code",
   "execution_count": 182,
   "id": "d269faf5",
   "metadata": {},
   "outputs": [
    {
     "data": {
      "text/html": [
       "<table border='1'>\n",
       "<tr><th>countriesAndTerritories</th><th>MaxCases</th></tr>\n",
       "<tr><td>United_States_of_...</td><td>19979</td></tr>\n",
       "</table>\n"
      ],
      "text/plain": [
       "+-----------------------+--------+\n",
       "|countriesAndTerritories|MaxCases|\n",
       "+-----------------------+--------+\n",
       "|   United_States_of_...|   19979|\n",
       "+-----------------------+--------+"
      ]
     },
     "execution_count": 182,
     "metadata": {},
     "output_type": "execute_result"
    }
   ],
   "source": [
    "df_cov2"
   ]
  },
  {
   "cell_type": "markdown",
   "id": "0958891c",
   "metadata": {},
   "source": [
    "#### Exportación a csv y parquet"
   ]
  },
  {
   "cell_type": "code",
   "execution_count": 183,
   "id": "441e2440",
   "metadata": {},
   "outputs": [],
   "source": [
    "df_cov2.write.format('parquet').mode('overwrite').save(pathCov+'resultado/parquet2')\n",
    "df_cov2.write.format('csv').mode('overwrite').save(pathCov+'resultado/csv2')"
   ]
  },
  {
   "cell_type": "code",
   "execution_count": 184,
   "id": "32966783",
   "metadata": {},
   "outputs": [
    {
     "name": "stdout",
     "output_type": "stream",
     "text": [
      "+-----------------------+--------+\n",
      "|countriesAndTerritories|MaxCases|\n",
      "+-----------------------+--------+\n",
      "|   United_States_of_...|   19979|\n",
      "+-----------------------+--------+\n",
      "\n",
      "+--------------------+-----+\n",
      "|                 _c0|  _c1|\n",
      "+--------------------+-----+\n",
      "|United_States_of_...|19979|\n",
      "+--------------------+-----+\n",
      "\n"
     ]
    }
   ],
   "source": [
    "pruebaP = spark.read.format('parquet') \\\n",
    "    .load(pathCov+'resultado/parquet2')\n",
    "print (pruebaP)\n",
    "pruebaCsv = spark.read.format('csv') \\\n",
    "    .load(pathCov+'resultado/csv2')\n",
    "print (pruebaCsv)"
   ]
  },
  {
   "cell_type": "code",
   "execution_count": 185,
   "id": "1bf5ff7a",
   "metadata": {},
   "outputs": [
    {
     "name": "stdout",
     "output_type": "stream",
     "text": [
      "+-----------------------+-----+--------+\n",
      "|countriesAndTerritories|cases|MaxCases|\n",
      "+-----------------------+-----+--------+\n",
      "|   United_States_of_...|19979|   19979|\n",
      "+-----------------------+-----+--------+\n",
      "\n"
     ]
    }
   ],
   "source": [
    "from pyspark.sql import Window\n",
    "from pyspark.sql.functions import max, col\n",
    "\n",
    "windowSpec = Window.orderBy(col('cases').desc())\n",
    "\n",
    "max_cases_country = df_cov.select('countriesAndTerritories', 'cases', max('cases').over(windowSpec).alias('MaxCases')) \\\n",
    "                         .filter(col('MaxCases').isNotNull()) \\\n",
    "                         .limit(1)\n",
    "\n",
    "max_cases_country.show()\n"
   ]
  },
  {
   "cell_type": "markdown",
   "id": "fa1c7348",
   "metadata": {},
   "source": [
    "### 3. ¿Cuál es la fecha con el mayor número de casos diarios de COVID-19 en España?\n",
    "Respuesta SQL"
   ]
  },
  {
   "cell_type": "code",
   "execution_count": 186,
   "id": "a2114bfb",
   "metadata": {},
   "outputs": [],
   "source": [
    "df_cov.createOrReplaceTempView('covidSql')\n",
    "df_cov31 = spark.sql(\"\"\"\n",
    "    select * from covidSql\n",
    "    where countriesAndTerritories= 'Spain' and cases in  (select  max (cases) \n",
    "    from covidSql\n",
    "    where countriesAndTerritories= 'Spain'\n",
    "    group by countriesAndTerritories)\n",
    "    \n",
    "\"\"\")"
   ]
  },
  {
   "cell_type": "code",
   "execution_count": 187,
   "id": "055792c1",
   "metadata": {
    "scrolled": true
   },
   "outputs": [
    {
     "name": "stdout",
     "output_type": "stream",
     "text": [
      "+----------+---+-----+----+-----+------+-----------------------+-----+--------------------+-----------+\n",
      "|   dateRep|day|month|year|cases|deaths|countriesAndTerritories|geoId|countryterritoryCode|popData2018|\n",
      "+----------+---+-----+----+-----+------+-----------------------+-----+--------------------+-----------+\n",
      "|27/03/2020| 27|    3|2020| 8578|   655|                  Spain|   ES|                 ESP|   46723749|\n",
      "+----------+---+-----+----+-----+------+-----------------------+-----+--------------------+-----------+\n",
      "\n"
     ]
    }
   ],
   "source": [
    "df_cov31.show()"
   ]
  },
  {
   "cell_type": "markdown",
   "id": "59db9b56",
   "metadata": {},
   "source": [
    "#### Exportación a csv y parquet"
   ]
  },
  {
   "cell_type": "code",
   "execution_count": 188,
   "id": "94faebf4",
   "metadata": {},
   "outputs": [],
   "source": [
    "df_cov31.write.format('parquet').mode('overwrite').save(pathCov+'resultado/parquet3')\n",
    "df_cov31.write.format('csv').mode('overwrite').save(pathCov+'resultado/csv3')"
   ]
  },
  {
   "cell_type": "code",
   "execution_count": 189,
   "id": "540c1963",
   "metadata": {},
   "outputs": [
    {
     "name": "stdout",
     "output_type": "stream",
     "text": [
      "+----------+---+-----+----+-----+------+-----------------------+-----+--------------------+-----------+\n",
      "|   dateRep|day|month|year|cases|deaths|countriesAndTerritories|geoId|countryterritoryCode|popData2018|\n",
      "+----------+---+-----+----+-----+------+-----------------------+-----+--------------------+-----------+\n",
      "|27/03/2020| 27|    3|2020| 8578|   655|                  Spain|   ES|                 ESP|   46723749|\n",
      "+----------+---+-----+----+-----+------+-----------------------+-----+--------------------+-----------+\n",
      "\n",
      "+----------+---+---+----+----+---+-----+---+---+--------+\n",
      "|       _c0|_c1|_c2| _c3| _c4|_c5|  _c6|_c7|_c8|     _c9|\n",
      "+----------+---+---+----+----+---+-----+---+---+--------+\n",
      "|27/03/2020| 27|  3|2020|8578|655|Spain| ES|ESP|46723749|\n",
      "+----------+---+---+----+----+---+-----+---+---+--------+\n",
      "\n"
     ]
    }
   ],
   "source": [
    "pruebaP = spark.read.format('parquet') \\\n",
    "    .load(pathCov+'resultado/parquet3')\n",
    "print (pruebaP)\n",
    "pruebaCsv = spark.read.format('csv') \\\n",
    "    .load(pathCov+'resultado/csv3')\n",
    "print (pruebaCsv)"
   ]
  },
  {
   "cell_type": "markdown",
   "id": "82e1e4c1",
   "metadata": {},
   "source": [
    "## Apagar spark"
   ]
  },
  {
   "cell_type": "code",
   "execution_count": 190,
   "id": "1ebeb631",
   "metadata": {},
   "outputs": [],
   "source": [
    "spark.stop()"
   ]
  }
 ],
 "metadata": {
  "kernelspec": {
   "display_name": "Python 3 (ipykernel)",
   "language": "python",
   "name": "python3"
  },
  "language_info": {
   "codemirror_mode": {
    "name": "ipython",
    "version": 3
   },
   "file_extension": ".py",
   "mimetype": "text/x-python",
   "name": "python",
   "nbconvert_exporter": "python",
   "pygments_lexer": "ipython3",
   "version": "3.9.7"
  }
 },
 "nbformat": 4,
 "nbformat_minor": 5
}
